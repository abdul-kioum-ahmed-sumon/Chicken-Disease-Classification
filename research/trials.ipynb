{
 "cells": [
  {
   "cell_type": "code",
   "execution_count": 1,
   "id": "e1cf7137",
   "metadata": {},
   "outputs": [],
   "source": [
    "import os"
   ]
  },
  {
   "cell_type": "code",
   "execution_count": 2,
   "id": "9e862a14",
   "metadata": {},
   "outputs": [
    {
     "name": "stdout",
     "output_type": "stream",
     "text": [
      "Current working directory: c:\\Users\\sumon\\Chicken-Disease-Classification\n"
     ]
    }
   ],
   "source": [
    "import os\n",
    "\n",
    "# Ensure working directory is project root\n",
    "if os.getcwd().endswith(\"research\"):\n",
    "    os.chdir(\"..\")\n",
    "\n",
    "print(\"Current working directory:\", os.getcwd())\n"
   ]
  },
  {
   "cell_type": "code",
   "execution_count": 1,
   "id": "afbea146",
   "metadata": {},
   "outputs": [
    {
     "name": "stdout",
     "output_type": "stream",
     "text": [
      "Current working directory: c:\\Users\\sumon\\Chicken-Disease-Classification\\research\n"
     ]
    }
   ],
   "source": [
    "import os\n",
    "print(\"Current working directory:\", os.getcwd())\n"
   ]
  },
  {
   "cell_type": "code",
   "execution_count": 2,
   "id": "2b05576a",
   "metadata": {},
   "outputs": [
    {
     "name": "stdout",
     "output_type": "stream",
     "text": [
      "Now in: c:\\Users\\sumon\\Chicken-Disease-Classification\n"
     ]
    }
   ],
   "source": [
    "# Run this once to fix the path\n",
    "if os.getcwd().endswith(\"research\"):\n",
    "    os.chdir(\"..\")\n",
    "\n",
    "# Confirm\n",
    "print(\"Now in:\", os.getcwd())\n"
   ]
  },
  {
   "cell_type": "code",
   "execution_count": 3,
   "id": "bc6be612",
   "metadata": {},
   "outputs": [
    {
     "name": "stdout",
     "output_type": "stream",
     "text": [
      "True\n"
     ]
    }
   ],
   "source": [
    "print(os.path.exists(\"config/config.yaml\"))\n"
   ]
  },
  {
   "cell_type": "code",
   "execution_count": 4,
   "id": "be4be6cc",
   "metadata": {},
   "outputs": [
    {
     "name": "stdout",
     "output_type": "stream",
     "text": [
      "Current Directory: c:\\Users\\sumon\\Chicken-Disease-Classification\n",
      "config/config.yaml exists?: True\n"
     ]
    }
   ],
   "source": [
    "import os\n",
    "\n",
    "print(\"Current Directory:\", os.getcwd())\n",
    "print(\"config/config.yaml exists?:\", os.path.exists(\"config/config.yaml\"))\n"
   ]
  },
  {
   "cell_type": "code",
   "execution_count": null,
   "id": "729197c7",
   "metadata": {},
   "outputs": [],
   "source": []
  },
  {
   "cell_type": "code",
   "execution_count": 1,
   "id": "7c07ab46",
   "metadata": {},
   "outputs": [
    {
     "name": "stdout",
     "output_type": "stream",
     "text": [
      "Current working directory: c:\\Users\\sumon\\Chicken-Disease-Classification\\research\n",
      "config/config.yaml exists?: False\n"
     ]
    }
   ],
   "source": [
    "import os\n",
    "print(\"Current working directory:\", os.getcwd())\n",
    "print(\"config/config.yaml exists?:\", os.path.exists(\"config/config.yaml\"))\n"
   ]
  },
  {
   "cell_type": "code",
   "execution_count": 2,
   "id": "3ad43c12",
   "metadata": {},
   "outputs": [],
   "source": [
    "if os.getcwd().endswith(\"research\"):\n",
    "    os.chdir(\"..\")\n"
   ]
  },
  {
   "cell_type": "code",
   "execution_count": 1,
   "id": "56368231",
   "metadata": {},
   "outputs": [
    {
     "ename": "FileNotFoundError",
     "evalue": "[WinError 3] The system cannot find the path specified: 'artifacts/data_ingestion/data.zip'",
     "output_type": "error",
     "traceback": [
      "\u001b[1;31m---------------------------------------------------------------------------\u001b[0m",
      "\u001b[1;31mFileNotFoundError\u001b[0m                         Traceback (most recent call last)",
      "Cell \u001b[1;32mIn[1], line 2\u001b[0m\n\u001b[0;32m      1\u001b[0m \u001b[38;5;28;01mimport\u001b[39;00m\u001b[38;5;250m \u001b[39m\u001b[38;5;21;01mos\u001b[39;00m\n\u001b[1;32m----> 2\u001b[0m \u001b[43mos\u001b[49m\u001b[38;5;241;43m.\u001b[39;49m\u001b[43mremove\u001b[49m\u001b[43m(\u001b[49m\u001b[38;5;124;43m\"\u001b[39;49m\u001b[38;5;124;43martifacts/data_ingestion/data.zip\u001b[39;49m\u001b[38;5;124;43m\"\u001b[39;49m\u001b[43m)\u001b[49m\n",
      "\u001b[1;31mFileNotFoundError\u001b[0m: [WinError 3] The system cannot find the path specified: 'artifacts/data_ingestion/data.zip'"
     ]
    }
   ],
   "source": [
    "import os\n",
    "os.remove(\"artifacts/data_ingestion/data.zip\")\n"
   ]
  }
 ],
 "metadata": {
  "kernelspec": {
   "display_name": "chicken",
   "language": "python",
   "name": "python3"
  },
  "language_info": {
   "codemirror_mode": {
    "name": "ipython",
    "version": 3
   },
   "file_extension": ".py",
   "mimetype": "text/x-python",
   "name": "python",
   "nbconvert_exporter": "python",
   "pygments_lexer": "ipython3",
   "version": "3.9.21"
  }
 },
 "nbformat": 4,
 "nbformat_minor": 5
}
